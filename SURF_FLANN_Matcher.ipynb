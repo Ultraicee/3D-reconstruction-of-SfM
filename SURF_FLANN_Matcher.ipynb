{
 "cells": [
  {
   "cell_type": "code",
   "execution_count": null,
   "metadata": {},
   "outputs": [],
   "source": [
    "import cv2\n",
    "import time\n",
    "import os\n",
    "import numpy as np\n",
    "import matplotlib.pyplot as plt\n",
    "from SIFT_FLANNMatcher import sift_num_record, sift_acc_record"
   ]
  },
  {
   "cell_type": "code",
   "execution_count": null,
   "metadata": {},
   "outputs": [],
   "source": [
    "imgnames = []\n",
    "imgnames = os.listdir(\"D:/Python3/FeatureMatch/RectifiedImages2\")\n",
    "# savepath = 'D:/Python3/FeatureMatch/SURFMatchedImages2/'\n",
    "start = time.clock()\n",
    "halfnum = int(0.5*len(imgnames))\n",
    "surf_num_record = []\n",
    "surf_acc_record = []\n",
    "for i in range(30):\n",
    "    imgname1 = 'D:/Python3/FeatureMatch/RectifiedImages2/'+imgnames[i]\n",
    "    imgname2 = 'D:/Python3/FeatureMatch/RectifiedImages2/'+imgnames[i + halfnum]\n",
    "    surf = cv2.xfeatures2d.SURF_create()\n",
    "\n",
    "    FLANN_INDEX_KDTREE = 0\n",
    "    index_params = dict(algorithm=FLANN_INDEX_KDTREE, trees=5)\n",
    "    search_params = dict(checks=50)\n",
    "    flann = cv2.FlannBasedMatcher(index_params, search_params)\n",
    "\n",
    "    img1 = cv2.imread(imgname1)\n",
    "    kp1, des1 = surf.detectAndCompute(img1, None)\n",
    "\n",
    "    img2 = cv2.imread(imgname2)\n",
    "    kp2, des2 = surf.detectAndCompute(img2, None)\n",
    "    matches = flann.knnMatch(des1, des2, k=2)\n",
    "    goodones = []\n",
    "    truthground = []\n",
    "\n",
    "    for m, n in matches:\n",
    "        if m.distance < 0.6 * n.distance:\n",
    "            truthground.append([m])\n",
    "        elif m.distance < 0.7 * n.distance:\n",
    "            goodones.append([m])\n",
    "\n",
    "    num = len(goodones) + len(truthground)\n",
    "    surf_num_record.append(num)\n",
    "    acc = len(truthground) / num\n",
    "    surf_acc_record.append(acc)\n",
    "\n",
    "    print('Matched num of %s and %s is %d,acc = %.3f' %(imgnames[i], imgnames[i + halfnum], num, acc))\n",
    "    img = cv2.drawMatchesKnn(img1, kp1, img2, kp2, goodones, None, flags=2)\n",
    "    cv2.imshow(\"SURF_FLANN\", img)\n",
    "    # cv2.imwrite(savepath + imgnames[i][-8:-4] + '-' + str(len(goodones)) + '.bmp', img)"
   ]
  },
  {
   "cell_type": "code",
   "execution_count": null,
   "metadata": {},
   "outputs": [],
   "source": [
    "# 绘图\n",
    "order = np.arange(1, 31, 1)\n",
    "plt.subplot(2, 1, 1)\n",
    "plt.plot(order, sift_num_record, label='sift_matched_num')\n",
    "plt.plot(order, surf_num_record, label='surf_matched_num')\n",
    "plt.title('SIFT and SURF matched num')\n",
    "plt.legend()\n",
    "\n",
    "plt.subplot(2, 1, 2)\n",
    "plt.plot(order, sift_acc_record, label='sift_matched_acc')\n",
    "plt.plot(order, surf_acc_record, label='surf_matched_acc')\n",
    "plt.title('SIFT and SURF matched acc')\n",
    "plt.legend()\n",
    "plt.show()\n",
    "\n",
    "end = time.clock()\n",
    "print('Running time of All: %s Seconds' % (end-start))"
   ]
  }
 ],
 "metadata": {
  "kernelspec": {
   "display_name": "Python 3",
   "language": "python",
   "name": "python3"
  },
  "language_info": {
   "codemirror_mode": {
    "name": "ipython",
    "version": 3
   },
   "file_extension": ".py",
   "mimetype": "text/x-python",
   "name": "python",
   "nbconvert_exporter": "python",
   "pygments_lexer": "ipython3",
   "version": "3.6.10"
  }
 },
 "nbformat": 4,
 "nbformat_minor": 4
}
